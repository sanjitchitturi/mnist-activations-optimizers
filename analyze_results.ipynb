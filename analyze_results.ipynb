import pandas as pd
import matplotlib.pyplot as plt
import seaborn as sns

# Load Results

df = pd.read_csv("results/results.csv")
print("\nResults Table:")
print(df.sort_values(by="Test Accuracy", ascending=False).to_string(index=False))

# Bar Chart of Test Accuracy

plt.figure(figsize=(8, 5))
sns.barplot(data=df, x="Optimizer", y="Test Accuracy", hue="Activation")
plt.title("Test Accuracy by Optimizer & Activation")
plt.show()

# Heatmap of Test Accuracy

heatmap_data = df.pivot("Optimizer", "Activation", "Test Accuracy")
plt.figure(figsize=(6, 4))
sns.heatmap(heatmap_data, annot=True, fmt=".4f", cmap="Blues")
plt.title("Accuracy Heatmap")
plt.show()

# Line Plot of Training vs Test Accuracy

plt.figure(figsize=(8, 5))
sns.lineplot(data=df, x="Activation", y="Train Accuracy", hue="Optimizer", marker="o", label="Train")
sns.lineplot(data=df, x="Activation", y="Test Accuracy", hue="Optimizer", marker="s", linestyle="--", legend=False)
plt.title("Train vs Test Accuracy by Activation & Optimizer")
plt.show()
